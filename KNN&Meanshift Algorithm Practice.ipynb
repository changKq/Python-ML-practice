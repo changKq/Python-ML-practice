{
 "cells": [
  {
   "cell_type": "markdown",
   "metadata": {},
   "source": [
    "# KNN way of solving"
   ]
  },
  {
   "cell_type": "code",
   "execution_count": 4,
   "metadata": {},
   "outputs": [
    {
     "data": {
      "text/html": [
       "<div>\n",
       "<style scoped>\n",
       "    .dataframe tbody tr th:only-of-type {\n",
       "        vertical-align: middle;\n",
       "    }\n",
       "\n",
       "    .dataframe tbody tr th {\n",
       "        vertical-align: top;\n",
       "    }\n",
       "\n",
       "    .dataframe thead th {\n",
       "        text-align: right;\n",
       "    }\n",
       "</style>\n",
       "<table border=\"1\" class=\"dataframe\">\n",
       "  <thead>\n",
       "    <tr style=\"text-align: right;\">\n",
       "      <th></th>\n",
       "      <th>V1</th>\n",
       "      <th>V2</th>\n",
       "      <th>labels</th>\n",
       "    </tr>\n",
       "  </thead>\n",
       "  <tbody>\n",
       "    <tr>\n",
       "      <th>0</th>\n",
       "      <td>2.072345</td>\n",
       "      <td>-3.241693</td>\n",
       "      <td>0</td>\n",
       "    </tr>\n",
       "    <tr>\n",
       "      <th>1</th>\n",
       "      <td>17.936710</td>\n",
       "      <td>15.784810</td>\n",
       "      <td>0</td>\n",
       "    </tr>\n",
       "    <tr>\n",
       "      <th>2</th>\n",
       "      <td>1.083576</td>\n",
       "      <td>7.319176</td>\n",
       "      <td>0</td>\n",
       "    </tr>\n",
       "    <tr>\n",
       "      <th>3</th>\n",
       "      <td>11.120670</td>\n",
       "      <td>14.406780</td>\n",
       "      <td>0</td>\n",
       "    </tr>\n",
       "    <tr>\n",
       "      <th>4</th>\n",
       "      <td>23.711550</td>\n",
       "      <td>2.557729</td>\n",
       "      <td>0</td>\n",
       "    </tr>\n",
       "  </tbody>\n",
       "</table>\n",
       "</div>"
      ],
      "text/plain": [
       "          V1         V2  labels\n",
       "0   2.072345  -3.241693       0\n",
       "1  17.936710  15.784810       0\n",
       "2   1.083576   7.319176       0\n",
       "3  11.120670  14.406780       0\n",
       "4  23.711550   2.557729       0"
      ]
     },
     "execution_count": 4,
     "metadata": {},
     "output_type": "execute_result"
    }
   ],
   "source": [
    "import pandas as pd\n",
    "import numpy as np\n",
    "data = pd.read_csv('data.csv')\n",
    "data.head()"
   ]
  },
  {
   "cell_type": "code",
   "execution_count": 2,
   "metadata": {},
   "outputs": [
    {
     "data": {
      "text/plain": [
       "0    0\n",
       "1    0\n",
       "2    0\n",
       "3    0\n",
       "4    0\n",
       "Name: labels, dtype: int64"
      ]
     },
     "execution_count": 2,
     "metadata": {},
     "output_type": "execute_result"
    }
   ],
   "source": [
    "X = data.drop(['labels'],axis=1)\n",
    "y = data.loc[:,'labels']\n",
    "y.head()"
   ]
  },
  {
   "cell_type": "code",
   "execution_count": 3,
   "metadata": {},
   "outputs": [
    {
     "data": {
      "text/plain": [
       "KNeighborsClassifier(algorithm='auto', leaf_size=30, metric='minkowski',\n",
       "                     metric_params=None, n_jobs=None, n_neighbors=3, p=2,\n",
       "                     weights='uniform')"
      ]
     },
     "execution_count": 3,
     "metadata": {},
     "output_type": "execute_result"
    }
   ],
   "source": [
    "#establish KNN model\n",
    "#unlike Kmeans, KNN is a supervised learning algorithm so we need to give the answer for the label\n",
    "from sklearn.neighbors import KNeighborsClassifier\n",
    "KNN = KNeighborsClassifier(n_neighbors=3)\n",
    "KNN.fit(X,y)"
   ]
  },
  {
   "cell_type": "code",
   "execution_count": 6,
   "metadata": {},
   "outputs": [
    {
     "name": "stdout",
     "output_type": "stream",
     "text": [
      "[2]\n"
     ]
    }
   ],
   "source": [
    "#predict V=80,V2=60\n",
    "y_predict_knn_test = KNN.predict([[80,60]])\n",
    "print(y_predict_knn_test)\n",
    "#correct"
   ]
  },
  {
   "cell_type": "markdown",
   "metadata": {},
   "source": [
    "# Meanshift (unsupervised learning)version"
   ]
  },
  {
   "cell_type": "code",
   "execution_count": 9,
   "metadata": {},
   "outputs": [
    {
     "name": "stdout",
     "output_type": "stream",
     "text": [
      "30.84663454820215\n"
     ]
    }
   ],
   "source": [
    "from sklearn.cluster import MeanShift,estimate_bandwidth\n",
    "bw = estimate_bandwidth(X,n_samples = 500)\n",
    "print(bw)"
   ]
  },
  {
   "cell_type": "code",
   "execution_count": 10,
   "metadata": {},
   "outputs": [
    {
     "data": {
      "text/plain": [
       "MeanShift(bandwidth=30.84663454820215, bin_seeding=False, cluster_all=True,\n",
       "          max_iter=300, min_bin_freq=1, n_jobs=None, seeds=None)"
      ]
     },
     "execution_count": 10,
     "metadata": {},
     "output_type": "execute_result"
    }
   ],
   "source": [
    "#establish the meanshift model-unsupervised\n",
    "ms = MeanShift(bandwidth = bw)\n",
    "ms.fit(X)"
   ]
  },
  {
   "cell_type": "code",
   "execution_count": 12,
   "metadata": {},
   "outputs": [
    {
     "name": "stdout",
     "output_type": "stream",
     "text": [
      "0    1149\n",
      "1     952\n",
      "2     899\n",
      "dtype: int64\n",
      "2    1156\n",
      "1     954\n",
      "0     890\n",
      "Name: labels, dtype: int64\n"
     ]
    }
   ],
   "source": [
    "#check the model\n",
    "y_predict_ms = ms.predict(X)\n",
    "print(pd.value_counts(y_predict_ms))\n",
    "print(pd.value_counts(y))\n",
    "#label is wrong, pattern is matched"
   ]
  },
  {
   "cell_type": "code",
   "execution_count": 13,
   "metadata": {},
   "outputs": [],
   "source": [
    "#correction\n",
    "y_correct = []\n",
    "for i in y_predict_ms:\n",
    "    if i ==0:\n",
    "        y_correct.append(2)\n",
    "    elif i == 1:\n",
    "        y_correct.append(1)\n",
    "    else:\n",
    "        y_correct.append(0)"
   ]
  },
  {
   "cell_type": "code",
   "execution_count": 16,
   "metadata": {},
   "outputs": [],
   "source": [
    "#convert data structure\n",
    "y_correct = np.array(y_correct)"
   ]
  },
  {
   "cell_type": "code",
   "execution_count": 25,
   "metadata": {},
   "outputs": [
    {
     "data": {
      "image/png": "[encoded data removed]",
      "text/plain": [
       "<Figure size 432x288 with 2 Axes>"
      ]
     },
     "metadata": {
      "needs_background": "light"
     },
     "output_type": "display_data"
    }
   ],
   "source": [
    "from matplotlib import pyplot as plt\n",
    "from sklearn.cluster import KMeans\n",
    "KM = KMeans(n_clusters=3,random_state=0)\n",
    "KM.fit(X)\n",
    "centers = KM.cluster_centers_\n",
    "\n",
    "fig6 = plt.subplot(121)\n",
    "label0 = plt.scatter(X.loc[:,'V1'][y_correct==0],X.loc[:,'V2'][y_correct==0])\n",
    "label1 = plt.scatter(X.loc[:,'V1'][y_correct==1],X.loc[:,'V2'][y_correct==1])\n",
    "label2 = plt.scatter(X.loc[:,'V1'][y_correct==2],X.loc[:,'V2'][y_correct==2])\n",
    "\n",
    "plt.title(\"meanshift corrected data\")\n",
    "plt.xlabel('V1')\n",
    "plt.ylabel('V2')\n",
    "plt.legend((label0,label1,label2),('label0','label1','label2'))\n",
    "plt.scatter(centers[:,0],centers[:,1])\n",
    "\n",
    "fig7 = plt.subplot(122)\n",
    "label0 = plt.scatter(X.loc[:,'V1'][y==0],X.loc[:,'V2'][y==0])\n",
    "label1 = plt.scatter(X.loc[:,'V1'][y==1],X.loc[:,'V2'][y==1])\n",
    "label2 = plt.scatter(X.loc[:,'V1'][y==2],X.loc[:,'V2'][y==2])\n",
    "\n",
    "plt.title(\"labled data\")\n",
    "plt.xlabel('V1')\n",
    "plt.ylabel('V2')\n",
    "plt.legend((label0,label1,label2),('label0','label1','label2'))\n",
    "plt.scatter(centers[:,0],centers[:,1])\n",
    "plt.show()"
   ]
  },
  {
   "cell_type": "code",
   "execution_count": null,
   "metadata": {},
   "outputs": [],
   "source": []
  }
 ],
 "metadata": {
  "kernelspec": {
   "display_name": "Python 3",
   "language": "python",
   "name": "python3"
  },
  "language_info": {
   "codemirror_mode": {
    "name": "ipython",
    "version": 3
   },
   "file_extension": ".py",
   "mimetype": "text/x-python",
   "name": "python",
   "nbconvert_exporter": "python",
   "pygments_lexer": "ipython3",
   "version": "3.7.6"
  }
 },
 "nbformat": 4,
 "nbformat_minor": 4
}
